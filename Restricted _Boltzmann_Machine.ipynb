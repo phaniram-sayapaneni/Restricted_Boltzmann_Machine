{
 "cells": [
  {
   "cell_type": "code",
   "execution_count": 82,
   "metadata": {},
   "outputs": [],
   "source": [
    "import tensorflow as tf\n",
    "import numpy as np\n",
    "import matplotlib.pyplot as plt\n",
    "import os \n",
    "import numpy as np\n",
    "from tensorflow.examples.tutorials.mnist import input_data\n",
    "from tqdm import tqdm"
   ]
  },
  {
   "cell_type": "code",
   "execution_count": 83,
   "metadata": {},
   "outputs": [],
   "source": [
    "def sample(probabilities, mode = 'bernoulli'):\n",
    "    if mode == 'bernoulli':\n",
    "        return tf.floor(probabilities + tf.random_uniform(tf.shape(probabilities), 0, 1))\n",
    "    elif mode == 'gaussian':\n",
    "        return tf.add(probabilities, tf.random_normal(tf.shape(proababilities), mean = 0.0,  stddev= 1.0))\n",
    "        "
   ]
  },
  {
   "cell_type": "code",
   "execution_count": 95,
   "metadata": {},
   "outputs": [],
   "source": [
    "class RBM:\n",
    "    def  __init__(self, n_visible, n_hidden, lr, epochs, mode = 'bernoulli'):\n",
    "        ''' Initializing model with one layer of RBM'''\n",
    "        self.mode = mode #bernoulli or gaussian\n",
    "        self.n_hidden = n_hidden\n",
    "        self.n_visible = n_visible\n",
    "        self.lr = lr\n",
    "        self.epochs = epochs\n",
    "        \n",
    "        #Initialize weights and biases\n",
    "        with tf.name_scope('Weights'):\n",
    "            self.W = tf.Variable( tf.random_normal(shape = [n_visible, n_hidden], mean= 0.0, stddev =  4*np.sqrt(6.0 / (self.n_visible +self.n_hidden))), name = 'weights')\n",
    "        tf.summary.histogram('weights', self.W)\n",
    "        self.vb = tf.Variable(tf.zeros(shape =[1, n_visible]), tf.float32, name= 'visible_bias')\n",
    "        self.hb = tf.Variable(tf.zeros(shape = [1, n_hidden]), tf.float32, name = 'hidden_bias')\n",
    "        \n",
    "    def get_probabilities(self, layer, val):\n",
    "        '''Return tensor of probs for a given layer'''\n",
    "        if layer == 'hidden':\n",
    "            with tf.name_scope(\"Hidden_Probabilities\"):\n",
    "                if self.mode == 'bernoulli':\n",
    "                    return tf.nn.sigmoid(tf.matmul(val, self.W) +self.hb)\n",
    "                elif self.mode == 'gaussian':\n",
    "                    return tf.matmul(val, self.W)+ self.hb\n",
    "                \n",
    "        elif layer == 'visible':\n",
    "            with tf.name_scope(\"Visible_Probabilities\"):\n",
    "                return tf.nn.sigmoid(tf.matmul(val, tf.transpose(self.W))+ self.vb)\n",
    "            \n",
    "    def CD(self, v, K=1):\n",
    "        '''K- step Contrastive Divergence using Gibbs sampling. Return parameters update.'''\n",
    "        with tf.name_scope(\"Contrastive_Divergence\"):\n",
    "            h_prob = self.get_probabilities('hidden', v)\n",
    "            # Positive Divergence + h(v).v^T\n",
    "            #v is the actual real data sample\n",
    "            # h(v) = sigmoid(W*v)\n",
    "            pos_divergence = tf.matmul(tf.transpose(v), h_prob)\n",
    "            \n",
    "            #here h_state is the initial state ususally MCMCs get started with\n",
    "            #since this is Contrastive Divergence, we start off with real data with some noise added to it\n",
    "            h_state = sample(h_prob, mode= self.mode)\n",
    "            dream_v_prob = self.get_probabilities('visible', h_state)\n",
    "            dream_v_state = dream_v_prob\n",
    "            \n",
    "            dream_h_prob = self.get_probabilities('hidden', dream_v_state)\n",
    "            dream_h_state = sample(dream_h_prob, mode= self.mode)\n",
    "            #Just completed 1st MC sample\n",
    "            \n",
    "            #Now burn through K states or chains\n",
    "            for i in range(K-1):\n",
    "                \n",
    "                dream_v_prob = self.get_probabilities('visible', dream_h_state)\n",
    "                dream_v_state = dream_v_prob\n",
    "                \n",
    "                dream_h_prob = self.get_probabilities('hidden', dream_v_state)\n",
    "                dream_h_state = sample(dream_h_prob, mode= self.mode)\n",
    "                \n",
    "            #now compute the negative/partion function part\n",
    "            neg_divergence = tf.matmul(tf.transpose(dream_v_state), dream_h_prob)\n",
    "            \n",
    "            #normalizedLogProb\n",
    "            dW = pos_divergence- neg_divergence\n",
    "            dvb = v-dream_v_state\n",
    "            dhb = h_prob-dream_h_prob\n",
    "            \n",
    "            #Reconstruction error at the visible layer\n",
    "            self.rec_error = tf.reduce_mean(tf.squared_difference(v, dream_v_state))\n",
    "            \n",
    "            #change in parameters\n",
    "            self.div = tf.reduce_mean(tf.abs(dW))\n",
    "            \n",
    "            return dW, dvb, dhb\n",
    "        \n",
    "    def update(self, v, K=1):\n",
    "        batch_size = tf.cast(tf.shape(v)[0], tf.float32)\n",
    "        dW, dvb, dhb= self.CD(v, K=K)\n",
    "        \n",
    "        delta_w = (self.lr/batch_size)*dW\n",
    "        delta_vb = (self.lr/batch_size)*(tf.reduce_sum(dvb, 0, keep_dims= True))\n",
    "        delta_hb = (self.lr/batch_size)*(tf.reduce_sum(dhb, 0, keep_dims= True))\n",
    "        \n",
    "        train_op = [self.W.assign_add(delta_w), self.vb.assign_add(delta_vb), self.hb.assign_add(delta_hb)]\n",
    "        \n",
    "        return train_op\n",
    "    \n",
    "    def gibbs(self, steps, v):\n",
    "        '''Using gibbs sampling for hidden, visible nodes in the network'''\n",
    "        with tf.name_scope(\"Gibbs_sampling\"):\n",
    "            for i in range(steps):\n",
    "                hidden_p = self.get_probabilities('hidden', v)\n",
    "                h = sample(hidden_p, mode=self.mode)\n",
    "                \n",
    "                \n",
    "                visible_p = self.get_probabilities('visible', h)\n",
    "                v = visible_p\n",
    "        # we always want visible samples given a sample real data p\n",
    "        return visible_p\n",
    "    \n",
    "    def free_energy(self, v):\n",
    "        '''compute the free energy for a visible state'''\n",
    "        vbias_term = tf.matmul(v, tf.transpose(self.vb))\n",
    "        \n",
    "        x_b = tf.matmul(v, self.W)+ self.hb\n",
    "        hidden_term = tf.reduce_sum(tf.log(1+ x_b))\n",
    "        \n",
    "        return -hidden_term -vbias_term\n",
    "\n",
    "    def feature_map(self):\n",
    "        '''Return hidden features '''\n",
    "        #activating each hidden node, and seeing their projections on the visible nodes\n",
    "        ft_map = {}\n",
    "        for k in range(self.n_hidden):\n",
    "            ft_map[k] = self.get_probabilities('visible', tf.expand_dims(tf.one_hot(k+1, self.n_hidden),0))\n",
    "        \n",
    "        return ft_map     "
   ]
  },
  {
   "cell_type": "markdown",
   "metadata": {},
   "source": [
    "# Initializing RBM"
   ]
  },
  {
   "cell_type": "code",
   "execution_count": 85,
   "metadata": {},
   "outputs": [
    {
     "name": "stdout",
     "output_type": "stream",
     "text": [
      "Extracting MNIST_data/train-images-idx3-ubyte.gz\n",
      "Extracting MNIST_data/train-labels-idx1-ubyte.gz\n",
      "Extracting MNIST_data/t10k-images-idx3-ubyte.gz\n",
      "Extracting MNIST_data/t10k-labels-idx1-ubyte.gz\n"
     ]
    }
   ],
   "source": [
    "mnist = input_data.read_data_sets('MNIST_data', one_hot = True)"
   ]
  },
  {
   "cell_type": "code",
   "execution_count": 96,
   "metadata": {},
   "outputs": [],
   "source": [
    "tf.reset_default_graph()"
   ]
  },
  {
   "cell_type": "code",
   "execution_count": 97,
   "metadata": {},
   "outputs": [],
   "source": [
    "rbm_model = RBM(n_visible = 784, n_hidden= 144, lr = tf.constant(0.05, tf.float32), epochs = 1000, mode = 'bernoulli')\n",
    "v = tf.placeholder(tf.float32, shape = [None, rbm_model.n_visible],  name = 'visible_layer')\n",
    "\n",
    "# Update rule\n",
    "k=10\n",
    "train_op = rbm_model.update(v, K=k)\n",
    "\n",
    "# Free energy\n",
    "energy = rbm_model.free_energy(v=v)\n",
    "tf.summary.scalar('free_energy', tf.reduce_mean(energy))\n",
    "\n",
    "# Save & restore all the variables.\n",
    "saver = tf.train.Saver({\"weights\":rbm_model.W, \"visible_bias\":rbm_model.vb, \"hidden_bias\":rbm_model.hb})\n",
    "\n",
    "# Create session.\n",
    "sess = tf.InteractiveSession()\n",
    "sess.run(tf.global_variables_initializer())"
   ]
  },
  {
   "cell_type": "code",
   "execution_count": 98,
   "metadata": {},
   "outputs": [
    {
     "name": "stderr",
     "output_type": "stream",
     "text": [
      "  1%|          | 11/1000 [00:01<02:05,  7.85it/s]"
     ]
    },
    {
     "name": "stdout",
     "output_type": "stream",
     "text": [
      "Reconstruction error at step 0: 0.420\n"
     ]
    },
    {
     "name": "stderr",
     "output_type": "stream",
     "text": [
      " 12%|█▏        | 118/1000 [00:03<00:27, 32.60it/s]"
     ]
    },
    {
     "name": "stdout",
     "output_type": "stream",
     "text": [
      "Reconstruction error at step 100: 0.063\n"
     ]
    },
    {
     "name": "stderr",
     "output_type": "stream",
     "text": [
      " 22%|██▏       | 217/1000 [00:05<00:20, 38.96it/s]"
     ]
    },
    {
     "name": "stdout",
     "output_type": "stream",
     "text": [
      "Reconstruction error at step 200: 0.054\n"
     ]
    },
    {
     "name": "stderr",
     "output_type": "stream",
     "text": [
      " 31%|███▏      | 313/1000 [00:07<00:16, 41.27it/s]"
     ]
    },
    {
     "name": "stdout",
     "output_type": "stream",
     "text": [
      "Reconstruction error at step 300: 0.050\n"
     ]
    },
    {
     "name": "stderr",
     "output_type": "stream",
     "text": [
      " 42%|████▏     | 421/1000 [00:09<00:13, 43.69it/s]"
     ]
    },
    {
     "name": "stdout",
     "output_type": "stream",
     "text": [
      "Reconstruction error at step 400: 0.048\n"
     ]
    },
    {
     "name": "stderr",
     "output_type": "stream",
     "text": [
      " 52%|█████▏    | 521/1000 [00:11<00:10, 44.30it/s]"
     ]
    },
    {
     "name": "stdout",
     "output_type": "stream",
     "text": [
      "Reconstruction error at step 500: 0.046\n"
     ]
    },
    {
     "name": "stderr",
     "output_type": "stream",
     "text": [
      " 62%|██████▏   | 619/1000 [00:13<00:08, 45.13it/s]"
     ]
    },
    {
     "name": "stdout",
     "output_type": "stream",
     "text": [
      "Reconstruction error at step 600: 0.046\n"
     ]
    },
    {
     "name": "stderr",
     "output_type": "stream",
     "text": [
      " 71%|███████   | 709/1000 [00:15<00:06, 44.55it/s]"
     ]
    },
    {
     "name": "stdout",
     "output_type": "stream",
     "text": [
      "Reconstruction error at step 700: 0.045\n"
     ]
    },
    {
     "name": "stderr",
     "output_type": "stream",
     "text": [
      " 81%|████████▏ | 814/1000 [00:18<00:04, 43.95it/s]"
     ]
    },
    {
     "name": "stdout",
     "output_type": "stream",
     "text": [
      "Reconstruction error at step 800: 0.044\n"
     ]
    },
    {
     "name": "stderr",
     "output_type": "stream",
     "text": [
      " 92%|█████████▏| 917/1000 [00:20<00:01, 44.04it/s]"
     ]
    },
    {
     "name": "stdout",
     "output_type": "stream",
     "text": [
      "Reconstruction error at step 900: 0.043\n"
     ]
    },
    {
     "name": "stderr",
     "output_type": "stream",
     "text": [
      "100%|██████████| 1000/1000 [00:21<00:00, 46.20it/s]\n"
     ]
    },
    {
     "name": "stdout",
     "output_type": "stream",
     "text": [
      "Saving model at: /Users/phaniram/Downloads/Tensorflow-Bootcamp-master/03-Convolutional-Neural-Networks/Deep_RL/saved_model/actor.ckpt\n"
     ]
    }
   ],
   "source": [
    "for epoch in tqdm(range(rbm_model.epochs)):\n",
    "    if epoch % 100 == 0:\n",
    "        result = sess.run([rbm_model.rec_error], feed_dict = {v: mnist.test.images})\n",
    "        if epoch % 100 == 0: print(\"Reconstruction error at step {}: {:.3f}\".format(epoch, result[0]))\n",
    "        #test_writer.add_summary(result[1],epoch)\n",
    "\n",
    "    batchXs, batchYs = mnist.train.next_batch(32)\n",
    "    sess.run(train_op, feed_dict = {v: batchXs})\n",
    "\n",
    "save_path = saver.save(sess, os.getcwd()+\"/saved_model/actor.ckpt\")\n",
    "print(\"Saving model at: %s\"%(save_path))"
   ]
  },
  {
   "cell_type": "code",
   "execution_count": 102,
   "metadata": {},
   "outputs": [
    {
     "data": {
      "image/png": "[encoded data removed]",
      "text/plain": [
       "<matplotlib.figure.Figure at 0x1c3af0dda0>"
      ]
     },
     "metadata": {},
     "output_type": "display_data"
    },
    {
     "data": {
      "image/png": "[encoded data removed]",
      "text/plain": [
       "<matplotlib.figure.Figure at 0x1c3b06a710>"
      ]
     },
     "metadata": {},
     "output_type": "display_data"
    }
   ],
   "source": [
    "def show_digit(original, fake):\n",
    "    f, (ax1, ax2) = plt.subplots(1, 2, sharey=True)\n",
    "    ax1.imshow(original.reshape((28,28)),cmap = plt.cm.gray)\n",
    "    ax1.set_title('Original digit')\n",
    "    ax2.imshow(fake.reshape((28,28)),cmap = plt.cm.gray)\n",
    "    ax2.set_title('Sampled digit')\n",
    "    plt.show()\n",
    "\n",
    "train_image = mnist.train.images[5] # from train distribution\n",
    "sample_train = rbm_model.gibbs(1, v=v).eval(session=sess, feed_dict={v: train_image.reshape(1,-1).astype(np.float32)})  \n",
    "show_digit(original=train_image, fake=sample_train)  \n",
    "\n",
    "test_image = mnist.test.images[3] # from test distribution\n",
    "sample_test = rbm_model.gibbs(1, v=v).eval(session=sess, feed_dict={v: test_image.reshape(1,-1).astype(np.float32)})    \n",
    "show_digit(original=test_image, fake=sample_test)  \n",
    "\n",
    "tf.reset_default_graph()"
   ]
  },
  {
   "cell_type": "code",
   "execution_count": null,
   "metadata": {},
   "outputs": [],
   "source": []
  },
  {
   "cell_type": "code",
   "execution_count": null,
   "metadata": {},
   "outputs": [],
   "source": []
  }
 ],
 "metadata": {
  "kernelspec": {
   "display_name": "Python 3",
   "language": "python",
   "name": "python3"
  },
  "language_info": {
   "codemirror_mode": {
    "name": "ipython",
    "version": 3
   },
   "file_extension": ".py",
   "mimetype": "text/x-python",
   "name": "python",
   "nbconvert_exporter": "python",
   "pygments_lexer": "ipython3",
   "version": "3.6.4"
  }
 },
 "nbformat": 4,
 "nbformat_minor": 2
}
